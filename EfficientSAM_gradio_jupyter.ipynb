{
  "cells": [
    {
      "cell_type": "markdown",
      "metadata": {
        "id": "view-in-github"
      },
      "source": [
        "[![Open In Colab](https://colab.research.google.com/assets/colab-badge.svg)](https://colab.research.google.com/github/camenduru/EfficientSAM-jupyter/blob/main/EfficientSAM_gradio_jupyter.ipynb)"
      ]
    },
    {
      "cell_type": "code",
      "execution_count": null,
      "metadata": {
        "id": "VjYy0F2gZIPR"
      },
      "outputs": [],
      "source": [
        "%cd /content\n",
        "!git clone -b dev https://github.com/camenduru/EfficientSAM-hf\n",
        "%cd /content/EfficientSAM-hf\n",
        "\n",
        "!pip install -q gradio\n",
        "\n",
        "!apt -y install -qq aria2\n",
        "!aria2c --console-log-level=error -c -x 16 -s 16 -k 1M https://huggingface.co/camenduru/EfficientSAM/resolve/main/efficientsam_s.onnx -d /content/EfficientSAM-hf -o efficientsam_s.onnx\n",
        "!aria2c --console-log-level=error -c -x 16 -s 16 -k 1M https://huggingface.co/camenduru/EfficientSAM/resolve/main/efficientsam_s_cpu.jit -d /content/EfficientSAM-hf -o efficientsam_s_cpu.jit\n",
        "!aria2c --console-log-level=error -c -x 16 -s 16 -k 1M https://huggingface.co/camenduru/EfficientSAM/resolve/main/efficientsam_s_decoder.onnx -d /content/EfficientSAM-hf -o efficientsam_s_decoder.onnx\n",
        "!aria2c --console-log-level=error -c -x 16 -s 16 -k 1M https://huggingface.co/camenduru/EfficientSAM/resolve/main/efficientsam_s_encoder.onnx -d /content/EfficientSAM-hf -o efficientsam_s_encoder.onnx\n",
        "!aria2c --console-log-level=error -c -x 16 -s 16 -k 1M https://huggingface.co/camenduru/EfficientSAM/resolve/main/efficientsam_s_gpu.jit -d /content/EfficientSAM-hf -o efficientsam_s_gpu.jit\n",
        "!aria2c --console-log-level=error -c -x 16 -s 16 -k 1M https://huggingface.co/camenduru/EfficientSAM/resolve/main/efficientsam_ti.onnx -d /content/EfficientSAM-hf -o efficientsam_ti.onnx\n",
        "!aria2c --console-log-level=error -c -x 16 -s 16 -k 1M https://huggingface.co/camenduru/EfficientSAM/resolve/main/efficientsam_ti_cpu.jit -d /content/EfficientSAM-hf -o efficientsam_ti_cpu.jit\n",
        "!aria2c --console-log-level=error -c -x 16 -s 16 -k 1M https://huggingface.co/camenduru/EfficientSAM/resolve/main/efficientsam_ti_decoder.onnx -d /content/EfficientSAM-hf -o efficientsam_ti_decoder.onnx\n",
        "!aria2c --console-log-level=error -c -x 16 -s 16 -k 1M https://huggingface.co/camenduru/EfficientSAM/resolve/main/efficientsam_ti_encoder.onnx -d /content/EfficientSAM-hf -o efficientsam_ti_encoder.onnx\n",
        "!aria2c --console-log-level=error -c -x 16 -s 16 -k 1M https://huggingface.co/camenduru/EfficientSAM/resolve/main/efficientsam_ti_gpu.jit -d /content/EfficientSAM-hf -o efficientsam_ti_gpu.jit\n",
        "!wget https://huggingface.co/spaces/yunyangx/EfficientSAM/resolve/main/examples/image7.jpg -O /content/EfficientSAM-hf/examples/image7.jpg\n",
        "\n",
        "!python app.py"
      ]
    }
  ],
  "metadata": {
    "accelerator": "GPU",
    "colab": {
      "gpuType": "T4",
      "provenance": []
    },
    "kernelspec": {
      "display_name": "Python 3",
      "name": "python3"
    },
    "language_info": {
      "name": "python"
    }
  },
  "nbformat": 4,
  "nbformat_minor": 0
}
